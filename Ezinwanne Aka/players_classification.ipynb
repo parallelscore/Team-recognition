{
 "cells": [
  {
   "cell_type": "code",
   "execution_count": null,
   "metadata": {
    "id": "SRt8ZHv46vl1"
   },
   "outputs": [],
   "source": [
    "import tensorflow as tf\n",
    "import numpy as np\n",
    "import matplotlib.pyplot as plt\n",
    "import pandas as pd\n",
    "\n",
    "import keras\n",
    "from keras.layers import Dense, Flatten\n",
    "from keras.models import Model \n",
    "from keras.preprocessing.image import ImageDataGenerator, load_img , img_to_array\n"
   ]
  },
  {
   "cell_type": "code",
   "execution_count": null,
   "metadata": {
    "id": "FmbPUCpX77YN"
   },
   "outputs": [],
   "source": [
    "tf.keras.applications.inception_v3.preprocess_input\n",
    "from keras.applications.inception_v3 import preprocess_input"
   ]
  },
  {
   "cell_type": "markdown",
   "metadata": {
    "id": "0VK2n-VUGM57"
   },
   "source": [
    "**STAGE 1**\n",
    "\n",
    "*I built the base model using Kera's inception_v3 model*"
   ]
  },
  {
   "cell_type": "code",
   "execution_count": null,
   "metadata": {
    "id": "VAtVMMZC6dCe"
   },
   "outputs": [],
   "source": [
    "base_model=tf.keras.applications.inception_v3.InceptionV3(input_shape=(256,256,3),\n",
    "    include_top=False\n",
    ")"
   ]
  },
  {
   "cell_type": "markdown",
   "metadata": {
    "id": "--iarEodGTts"
   },
   "source": [
    " This is a non-trainable model.\n",
    " \n",
    "I am not training any layers, I will just use the outputs of the base model and add to our actual layer."
   ]
  },
  {
   "cell_type": "code",
   "execution_count": null,
   "metadata": {
    "id": "DU6_psNh8tUi"
   },
   "outputs": [],
   "source": [
    " for layer in base_model.layers:\n",
    "  layer.trainable= False"
   ]
  },
  {
   "cell_type": "code",
   "execution_count": null,
   "metadata": {
    "id": "HDCcrYzf95H6"
   },
   "outputs": [],
   "source": [
    "X= Flatten()(base_model.output)\n",
    "X= Dense(units=3, activation= 'sigmoid')(X)\n",
    "\n"
   ]
  },
  {
   "cell_type": "markdown",
   "metadata": {
    "id": "QEGoIiPiHcPT"
   },
   "source": [
    "I will now create our actual model using Adam's optimizer and binary_cross entropy as our loss function."
   ]
  },
  {
   "cell_type": "code",
   "execution_count": null,
   "metadata": {
    "id": "sCkU4WjSHoHK"
   },
   "outputs": [],
   "source": [
    "# Final model\n",
    "model=Model(base_model.input , X)\n",
    "\n",
    "# compile model\n",
    "model.compile(optimizer= 'adam',loss= keras.losses.binary_crossentropy, metrics=['accuracy'])\n",
    "\n",
    "#summary\n",
    "model.summary()"
   ]
  },
  {
   "cell_type": "code",
   "execution_count": null,
   "metadata": {
    "id": "poRJtp-S-fw7"
   },
   "outputs": [],
   "source": [
    "## Use Data generator to carry out our image processing\n",
    "#My google drive which has already been uploaded to my colab directory has a leaf image folder containing the five different leave types in their seperate folders  "
   ]
  },
  {
   "cell_type": "code",
   "execution_count": null,
   "metadata": {
    "id": "rknkPU_c_zOK"
   },
   "outputs": [],
   "source": [
    "train_datagen=ImageDataGenerator(featurewise_center= True, rotation_range=0.4, \n",
    "                                 width_shift_range=0.3, \n",
    "                                 horizontal_flip=True, \n",
    "                                 preprocessing_function= preprocess_input ,\n",
    "                                  zoom_range=0.4, \n",
    "                                 shear_range=0.4)\n",
    "\n",
    "train_data=train_datagen.flow_from_directory(directory=\"/content/drive/MyDrive/images2\", \n",
    "                                             target_size=(256,256),\n",
    "                                             batch_size=36)"
   ]
  },
  {
   "cell_type": "code",
   "execution_count": null,
   "metadata": {
    "id": "76YksSTSBnX6"
   },
   "outputs": [],
   "source": [
    "train_data.class_indices"
   ]
  },
  {
   "cell_type": "code",
   "execution_count": null,
   "metadata": {
    "id": "Dzacb4VF1di5"
   },
   "outputs": [],
   "source": [
    "t_img , label= train_data.next()"
   ]
  },
  {
   "cell_type": "code",
   "execution_count": null,
   "metadata": {
    "id": "zlOlXVxW1l4i"
   },
   "outputs": [],
   "source": [
    "t_img.shape"
   ]
  },
  {
   "cell_type": "code",
   "execution_count": null,
   "metadata": {
    "id": "5qkmCJFDF_cF"
   },
   "outputs": [],
   "source": [
    "#tRAIN THE MODEL"
   ]
  },
  {
   "cell_type": "code",
   "execution_count": null,
   "metadata": {
    "id": "8oTPPbA7GwMi"
   },
   "outputs": [],
   "source": [
    "from keras.callbacks import ModelCheckpoint, EarlyStopping\n",
    "\n",
    "mc= ModelCheckpoint(filepath=\"./team_model.h5\", \n",
    "                    monitor=\"accuracy\", \n",
    "                    verbose=1, \n",
    "                    save_best_only=True)\n",
    "\n",
    "es= EarlyStopping(monitor= \"accuracy\",\n",
    "                  min_delta= 0.01,\n",
    "                  patience=5,\n",
    "                  verbose=1)\n",
    "\n",
    "cb=[mc,es] "
   ]
  },
  {
   "cell_type": "code",
   "execution_count": null,
   "metadata": {
    "id": "wrso2zP8JCoo"
   },
   "outputs": [],
   "source": [
    "his =model.fit_generator(train_data, \n",
    "                         steps_per_epoch=5, \n",
    "                         epochs=10, \n",
    "                         callbacks=cb)"
   ]
  },
  {
   "cell_type": "code",
   "execution_count": null,
   "metadata": {
    "id": "Q9Aqa40NJcN7"
   },
   "outputs": [],
   "source": [
    "from keras.models import load_model\n",
    "\n",
    "model= load_model(\"./team_model.h5\")"
   ]
  },
  {
   "cell_type": "code",
   "execution_count": null,
   "metadata": {
    "id": "qLvQkq1RK4IQ"
   },
   "outputs": [],
   "source": [
    "h= his.history\n",
    "h.keys()"
   ]
  },
  {
   "cell_type": "markdown",
   "metadata": {
    "id": "z9vpvWRsKsuJ"
   },
   "source": [
    "I plotted a chart of the loss and model accuracy"
   ]
  },
  {
   "cell_type": "code",
   "execution_count": null,
   "metadata": {
    "id": "E9Xv3-XNLKe_"
   },
   "outputs": [],
   "source": [
    "plt.plot(h['loss'])\n",
    "plt.plot(h['accuracy'])\n",
    "\n",
    "plt.title('LOSS vs ACC')\n",
    "plt.show()"
   ]
  }
 ],
 "metadata": {
  "accelerator": "GPU",
  "colab": {
   "collapsed_sections": [],
   "name": "players classification.ipynb",
   "private_outputs": true,
   "provenance": []
  },
  "gpuClass": "standard",
  "kernelspec": {
   "display_name": "Python 3 (ipykernel)",
   "language": "python",
   "name": "python3"
  },
  "language_info": {
   "codemirror_mode": {
    "name": "ipython",
    "version": 3
   },
   "file_extension": ".py",
   "mimetype": "text/x-python",
   "name": "python",
   "nbconvert_exporter": "python",
   "pygments_lexer": "ipython3",
   "version": "3.9.7"
  }
 },
 "nbformat": 4,
 "nbformat_minor": 1
}
